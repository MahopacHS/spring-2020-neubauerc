{
  "cells": [
    {
      "metadata": {},
      "cell_type": "markdown",
      "source": "# Now You Code 3: Final Grade in IST256\n\n# Part 1\n\nOur Course Syllabus has a grading scale here:\n\nhttp://ist256.syr.edu/syllabus/#grading-scale\n\nWrite a Python program to input a number of points earned out of 600 and then\noutputs the registrar letter grade. \n\nFor example:\n\n    IST256 Grade Calculator\n    Enter total points out of 600:  550\n    Grade: A- \n"
    },
    {
      "metadata": {
        "collapsed": true
      },
      "cell_type": "markdown",
      "source": "## Step 1: Problem Analysis\n\nInputs:\ntotal amount of points earned.\n\nOutputs:\nthe final grade with the amount of points you earned.\n\nAlgorithm (Steps in Program):\ninput the total amount of points, output the grade\n\n"
    },
    {
      "metadata": {
        "trusted": true
      },
      "cell_type": "code",
      "source": "#Step 2: write code here\ngrade=int(input(\"enter your grade /600\"))\nif(grade>=540-600):\n    print(\"your grade is an A!\")\n    if(grade>=450-539):\n        print(\"Your grade is a B!\")\n        if(grade>=360-449);\n            print(\"your grade is a C!\")\n            if(grade>=300-359):\n                print(\"Your grade is a D\")\n                if(grade>=0-299)\n                    print(\"your grade is an F\")\n\n\n\n",
      "execution_count": 15,
      "outputs": [
        {
          "output_type": "error",
          "ename": "SyntaxError",
          "evalue": "invalid syntax (<ipython-input-15-0924f1357911>, line 3)",
          "traceback": [
            "\u001b[0;36m  File \u001b[0;32m\"<ipython-input-15-0924f1357911>\"\u001b[0;36m, line \u001b[0;32m3\u001b[0m\n\u001b[0;31m    if(grade=540-600):\u001b[0m\n\u001b[0m            ^\u001b[0m\n\u001b[0;31mSyntaxError\u001b[0m\u001b[0;31m:\u001b[0m invalid syntax\n"
          ]
        }
      ]
    },
    {
      "metadata": {},
      "cell_type": "markdown",
      "source": "# Part 2\n\nNow that you have it working,  re-write your code to handle bad input. Specifically:\n\n\n- non integer values\n- integer values outside the 0 to 600 range.\n\n**Note:** Exception handling is not part of our algorithm. It's a programming concern, not a problem-solving concern!"
    },
    {
      "metadata": {
        "trusted": true
      },
      "cell_type": "code",
      "source": "## Step 2 (again): write code again but handle errors with try...except\ntry:\ngrade=int(input(\"enter your grade /600\"))\n    if(grade>=540-600):\n        print(\"your grade is an A!\")\n        if(grade>=450-539):\n            print(\"Your grade is a B!\")\n            if(grade>=360-449);\n                print(\"your grade is a C!\")\n                if(grade>=300-359):\n                    print(\"Your grade is a D\")\n                    if(grade>=0-299):\n                        print(\"your grade is an F\")\n                        else(grade<0 or grade>600):\n                        except:(\"thats not a real grade!\")\n",
      "execution_count": 17,
      "outputs": [
        {
          "output_type": "error",
          "ename": "IndentationError",
          "evalue": "expected an indented block (<ipython-input-17-5cf64f97000b>, line 3)",
          "traceback": [
            "\u001b[0;36m  File \u001b[0;32m\"<ipython-input-17-5cf64f97000b>\"\u001b[0;36m, line \u001b[0;32m3\u001b[0m\n\u001b[0;31m    grade=int(input(\"enter your grade /600\"))\u001b[0m\n\u001b[0m        ^\u001b[0m\n\u001b[0;31mIndentationError\u001b[0m\u001b[0;31m:\u001b[0m expected an indented block\n"
          ]
        }
      ]
    },
    {
      "metadata": {},
      "cell_type": "markdown",
      "source": "## Step 3: Questions\n\n1. What specific Python Error are we handling (please provide the name of it)?\n\nAnswer:  we are dealing with an indentation error here.\n\n2. How many times must you execute this program and check the output before you canbe reasonably assured your code is correct? Explain.\n\nAnswer:  You need to try it once for each if else that is used to make sure that the program runs smoothly.\n\n\n3. When testing this program do you think its more important to test numbers in the middle of the grade range or exactly on the boundary between one grade range and the next. Justify your response.\n\nAnswer:  I think it is important to test numbers in the middle to ensure that any grade between the boundaries will run the code correctly.\n\n"
    },
    {
      "metadata": {},
      "cell_type": "markdown",
      "source": "## Step 4: Reflection\n\nReflect upon your experience completing this assignment. This should be a personal narrative, in your own voice, and cite specifics relevant to the activity as to help the grader understand how you arrived at the code you submitted. Things to consider touching upon: Elaborate on the process itself. Did your original problem analysis work as designed?  How many iterations did you go through before you arrived at the solution? Where did you struggle along the way and how did you overcome it? What did you learn from completing the assignment? What do you need to work on to get better? What was most valuable and least valuable about this exercise? Do you have any suggestions for improvements?\n\nTo make a good reflection, you should journal your thoughts, questions and comments while you complete the exercise.\n\nKeep your response to between 100 and 250 words.\n\n`--== Write Your Reflection Below Here ==--`\nThis was the hardest assignment i've had to do in this class so far. Though my program did not run, I did not want to leave blank answers. I filled them in with the best of my ability and tried as hard as I could to write a somewhat accurate code. I could not think of the operators and variables I had to use for this to be successful. I will have to ask Mr. Faitakes many more questions about this assignment so I can fully understand it.\n"
    }
  ],
  "metadata": {
    "anaconda-cloud": {},
    "kernelspec": {
      "name": "python3",
      "display_name": "Python 3",
      "language": "python"
    },
    "language_info": {
      "mimetype": "text/x-python",
      "nbconvert_exporter": "python",
      "name": "python",
      "file_extension": ".py",
      "version": "3.5.4",
      "pygments_lexer": "ipython3",
      "codemirror_mode": {
        "version": 3,
        "name": "ipython"
      }
    },
    "toc": {
      "base_numbering": 1,
      "nav_menu": {},
      "number_sections": false,
      "sideBar": false,
      "skip_h1_title": false,
      "title_cell": "Table of Contents",
      "title_sidebar": "Contents",
      "toc_cell": false,
      "toc_position": {},
      "toc_section_display": false,
      "toc_window_display": false
    }
  },
  "nbformat": 4,
  "nbformat_minor": 1
}
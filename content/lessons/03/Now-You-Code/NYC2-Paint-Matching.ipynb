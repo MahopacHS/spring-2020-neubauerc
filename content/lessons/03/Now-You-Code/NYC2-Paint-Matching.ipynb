{
  "cells": [
    {
      "metadata": {},
      "cell_type": "markdown",
      "source": "# Now You Code 2: Paint Pricing\n\nHouse Depot, a big-box hardware retailer, has contracted you to create an app to calculate paint prices. \n\nThe price of paint is determined by the following factors:\n- Everyday quality paint is `$19.99` per gallon.\n- Select quality paint is `$24.99` per gallon.\n- Premium quality paint is `$32.99` per gallon.\n\nIn addition if the customer wants computerized color-matching that incurs an additional fee of `$4.99` per gallon. \n\nWrite a program to ask the user to select a paint quality: 'everyday', 'select' or 'premium', prompt for color matching, and then outputs the price per gallon of the paint.\n\nExample Run 1:\n\n```\nWhich paint quality do you require ['everyday', 'select', 'premium'] ?select\nDo you require color matching [y/n] ?y\nTotal price of select paint with color matching is $29.98\n```\n\nExample Run 2:\n\n```\nWhich paint quality do you require ['everyday', 'select', 'premium'] ?premium\nDo you require color matching [y/n] ?n\nTotal price of premium paint without color matching is $32.99\n```"
    },
    {
      "metadata": {
        "collapsed": true
      },
      "cell_type": "markdown",
      "source": "## Step 1: Problem Analysis\n\nInputs:\npaint quality, color matching.\nOutputs\ntotal price of paint and color matching.\n\nAlgorithm (Steps in Program):\ninput quality and color matching option, output total price of purchase.\n\n"
    },
    {
      "metadata": {
        "trusted": true
      },
      "cell_type": "code",
      "source": "# Step 2: Write code here \nquality=['everyday','select', 'premium']\n\ntry:\n    choice=input(\"What type of paint?(everyday,select, premium)\")\n    color=input(\"Do you want color matching for $4.99(yes/no)\")\n    if(choice in quality):\n        if (choice==\"everyday\"):\n            price=19.99\n        elif (choice=='select'):\n            price=24.99\n        else:\n            price=32.99\n    if (color=='yes'):\n        total=price+4.99\n        match=\"with\"\n    else:\n        total=price\n        match=\"without\"\n    print(\"The total of %s paint %s color matching is %.2f\" %(choice,match,total))\n\nexcept:\n    print(\"Im really embarassed, but something went horribly wrong!\")",
      "execution_count": 15,
      "outputs": [
        {
          "output_type": "stream",
          "name": "stdout",
          "text": "What type of paint?(everyday,select, premium)select\nDo you want color matching for $4.99(yes/no)yes\nThe total of select paint with color matching is 29.98\n"
        }
      ]
    },
    {
      "metadata": {},
      "cell_type": "markdown",
      "source": "## Step 3: Questions\n\n1. When you enter something other than `'everyday', 'select',` or  `'premium'` what happens? Modify the program to print `that is not a paint quality` and then exit in those cases.\n\nAnswer:   it gives the crash code stating what went went wrong.\n\n\n2. What happens when you enter something other than `'y'` or `'n'` for color matching? Re-write the program to print `you must enter y or n` whenever you enter something other than those two values.\n\nAnswer:  it gives the crash code showing what went wrong. now, it tells you im really embarrassed but something went horribly wrong.\n\n\n3. Why can't we use Python's `try...except` in this example?\n\nAnswer:   You can use try and except in this example to stop the program from crashing. Instead it just gives the message to the user saying that something went wrong.\n\n\n4. How many times (at minimum) must we execute this program and check the results before we can be reasonably assured it is correct?\n\nAnswer:  for this one, I would say at least 7 times to test every line of code.\n\n\n"
    },
    {
      "metadata": {},
      "cell_type": "markdown",
      "source": "## Step 4: Reflection\n\nReflect upon your experience completing this assignment. This should be a personal narrative, in your own voice, and cite specifics relevant to the activity as to help the grader understand how you arrived at the code you submitted. Things to consider touching upon: Elaborate on the process itself. Did your original problem analysis work as designed?  How many iterations did you go through before you arrived at the solution? Where did you struggle along the way and how did you overcome it? What did you learn from completing the assignment? What do you need to work on to get better? What was most valuable and least valuable about this exercise? Do you have any suggestions for improvements?\n\nTo make a good reflection, you should journal your thoughts, questions and comments while you complete the exercise.\n\nKeep your response to between 100 and 250 words.\n\n`--== Write Your Reflection Below Here ==--`\n\n"
    },
    {
      "metadata": {
        "trusted": false
      },
      "cell_type": "code",
      "source": "This was the hardest now you code for me. It takes such percision in order to get the code completely correct and the directions on the syntax error are not always correct. However, I have a better understanding of this topic now. I will still need to practice this much more in order to be able to do it though. Mr Faitakes helped me with this assignment.",
      "execution_count": null,
      "outputs": []
    }
  ],
  "metadata": {
    "anaconda-cloud": {},
    "kernelspec": {
      "name": "python3",
      "display_name": "Python 3",
      "language": "python"
    },
    "language_info": {
      "mimetype": "text/x-python",
      "nbconvert_exporter": "python",
      "name": "python",
      "pygments_lexer": "ipython3",
      "version": "3.5.4",
      "file_extension": ".py",
      "codemirror_mode": {
        "version": 3,
        "name": "ipython"
      }
    },
    "toc": {
      "base_numbering": 1,
      "nav_menu": {},
      "number_sections": false,
      "sideBar": false,
      "skip_h1_title": false,
      "title_cell": "Table of Contents",
      "title_sidebar": "Contents",
      "toc_cell": false,
      "toc_position": {},
      "toc_section_display": false,
      "toc_window_display": false
    }
  },
  "nbformat": 4,
  "nbformat_minor": 1
}
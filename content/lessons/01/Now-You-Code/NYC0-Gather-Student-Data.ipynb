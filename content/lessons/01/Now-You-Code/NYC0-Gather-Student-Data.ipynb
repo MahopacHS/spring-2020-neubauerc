{
  "cells": [
    {
      "metadata": {},
      "cell_type": "markdown",
      "source": "# Now You Code In Class: Gathering Student Data\n\nWhich gathers student data such as name, email, gpa and major then prints out a student profile card like this:\n\n```\nNAME: Michael Fudge\nEMAIL: mafudge@syr.edu\nGPA: 4.0\nMAJOR: Information Studies\n```\n\nOf course your actual output will vary based on the inputs, which is the point of programming in the first place! "
    },
    {
      "metadata": {
        "collapsed": true
      },
      "cell_type": "markdown",
      "source": "## Step 1: Problem Analysis\n\nInputs:\n\nOutputs:\n\nAlgorithm (Steps in Program):\n\n"
    },
    {
      "metadata": {
        "trusted": true
      },
      "cell_type": "code",
      "source": "# Step 2: Write code here\nname = input(\"enter your name:\")\nemail = input(\"enter your email:\")\nGPA = input(\"enter your gpa:\")\nmajor= input(\"enter your major:\")\nprint(\"your name is\",name,\"your email is\",email,\"your gpa is\",GPA,\"and your major is\",major)",
      "execution_count": 1,
      "outputs": [
        {
          "output_type": "stream",
          "name": "stdout",
          "text": "enter your name:Collin Neubauer\nenter your email:Neuby0508@gmail.com\nenter your gpa:4.0\nenter your major:Construction Management\nyour name is Collin Neubauer your email is Neuby0508@gmail.com your gpa is 4.0 and your major is Construction Management\n"
        }
      ]
    },
    {
      "metadata": {
        "trusted": true
      },
      "cell_type": "code",
      "source": "name = input(\"enter your name:\")\nemail = input(\"enter your email:\")\nGPA = input(\"enter your gpa:\")\nmajor= input(\"enter your major:\")\nprint(\"your name is\",name,\",\",\"your email is\",email,\",\",\"your gpa is\",GPA,\",\",\"and your major is\",major,\".\")",
      "execution_count": 2,
      "outputs": [
        {
          "output_type": "stream",
          "name": "stdout",
          "text": "enter your name:Collin Neubauer\nenter your email:Neuby0508@gmail.com\nenter your gpa:4.0\nenter your major:Construction Management\nyour name is Collin Neubauer , your email is Neuby0508@gmail.com , your gpa is 4.0 , and your major is Construction Management .\n"
        }
      ]
    },
    {
      "metadata": {
        "trusted": true
      },
      "cell_type": "code",
      "source": "",
      "execution_count": null,
      "outputs": []
    },
    {
      "metadata": {
        "trusted": true
      },
      "cell_type": "code",
      "source": "",
      "execution_count": null,
      "outputs": []
    }
  ],
  "metadata": {
    "anaconda-cloud": {},
    "kernelspec": {
      "name": "python3",
      "display_name": "Python 3",
      "language": "python"
    },
    "language_info": {
      "mimetype": "text/x-python",
      "nbconvert_exporter": "python",
      "name": "python",
      "pygments_lexer": "ipython3",
      "version": "3.5.4",
      "file_extension": ".py",
      "codemirror_mode": {
        "version": 3,
        "name": "ipython"
      }
    },
    "toc": {
      "base_numbering": 1,
      "nav_menu": {},
      "number_sections": false,
      "sideBar": false,
      "skip_h1_title": false,
      "title_cell": "Table of Contents",
      "title_sidebar": "Contents",
      "toc_cell": false,
      "toc_position": {},
      "toc_section_display": false,
      "toc_window_display": false
    }
  },
  "nbformat": 4,
  "nbformat_minor": 1
}
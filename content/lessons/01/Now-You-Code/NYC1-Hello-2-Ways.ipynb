{
  "cells": [
    {
      "metadata": {},
      "cell_type": "markdown",
      "source": "# Now You Code 1: Hello 2 Ways\n\nWrite a Python program which prompts you to input your first name and then your last name. It should then print your name two ways First Last and Last, First. For example:\n\n```\nWhat is your first name? Michael\nWhat is your last name? Fudge\nHello, Michael Fudge\nOr should I say Fudge, Michael\n```\n"
    },
    {
      "metadata": {
        "collapsed": true
      },
      "cell_type": "markdown",
      "source": "## Step 1: Problem Analysis\n\nInputs: \nFirst name, Last name.\nOutputs:\nHello Collin Neubauer or should I say Neubauer Collin\nAlgorithm (Steps in Program):\nprint(\"hello\",first,last,\"or should I say\",last,\",\",first)\n"
    },
    {
      "metadata": {
        "trusted": true
      },
      "cell_type": "code",
      "source": "first = input(\"enter your first name:\")\nlast = input(\"enter your last name:\")\nprint(\"hello\",first,last,\"or should I say\",last,\",\",first) ",
      "execution_count": 1,
      "outputs": [
        {
          "output_type": "stream",
          "name": "stdout",
          "text": "enter your first name:collin\nenter your last name:neubauer\nhello collin neubauer or should I say neubauer , collin\n"
        }
      ]
    },
    {
      "metadata": {
        "trusted": true
      },
      "cell_type": "code",
      "source": "first = input(\"enter your first name:\")\nlast = input(\"enter your last name:\")\nprint(\"hello\",first,last,\"or should I say\",last,\",\",first) ",
      "execution_count": 4,
      "outputs": [
        {
          "output_type": "stream",
          "name": "stdout",
          "text": "enter your first name:collin\nenter your last name:collin\nhello collin collin or should I say collin , collin\n"
        }
      ]
    },
    {
      "metadata": {},
      "cell_type": "markdown",
      "source": "## Step 3: Questions\n\n1. What happens when you do not follow the instructions and enter your first name as your last name? Does the code still run? Why?\n\nAnswer:   when you enter your first name as your last, it simply reverses the names on the output. It still runs when the names are reversed because there is not one set name in the algorithm, it simply takes what the person types in as a name and uses it in the sentence.\n\n2. What type of error is it when the program runs but does not handle bad input?\n\nAnswer:   this is known as a runtime error.\n\n3. Is there anything you can do in code to correct this type of error? Why or why not?\n\nAnswer:    Yes, you canr modify the code so that it can handle your input. The underlying problem with the runtime error is that it does not accept your input.\n\n"
    },
    {
      "metadata": {},
      "cell_type": "markdown",
      "source": "## Step 4: Reflection\n\nReflect upon your experience completing this assignment. This should be a personal narrative, in your own voice, and cite specifics relevant to the activity as to help the grader understand how you arrived at the code you submitted. Things to consider touching upon: Elaborate on the process itself. Did your original problem analysis work as designed?  How many iterations did you go through before you arrived at the solution? Where did you struggle along the way and how did you overcome it? What did you learn from completing the assignment? What do you need to work on to get better? What was most valuable and least valuable about this exercise? Do you have any suggestions for improvements?\n\nTo make a good reflection, you should journal your thoughts, questions and comments while you complete the exercise.\n\nKeep your response to between 100 and 250 words.\n\n`--== Write Your Reflection Below Here ==--`\nI had no problem completing the actual coding part of this assignment. In fact, that was the easieat part for me. following directions is always the more simple part, its when you have to completely understand what goes into the code and why it behaves the way it does\n"
    }
  ],
  "metadata": {
    "anaconda-cloud": {},
    "kernelspec": {
      "name": "python3",
      "display_name": "Python 3",
      "language": "python"
    },
    "language_info": {
      "mimetype": "text/x-python",
      "nbconvert_exporter": "python",
      "name": "python",
      "pygments_lexer": "ipython3",
      "version": "3.5.4",
      "file_extension": ".py",
      "codemirror_mode": {
        "version": 3,
        "name": "ipython"
      }
    },
    "toc": {
      "base_numbering": 1,
      "nav_menu": {},
      "number_sections": false,
      "sideBar": false,
      "skip_h1_title": false,
      "title_cell": "Table of Contents",
      "title_sidebar": "Contents",
      "toc_cell": false,
      "toc_position": {},
      "toc_section_display": false,
      "toc_window_display": false
    }
  },
  "nbformat": 4,
  "nbformat_minor": 1
}
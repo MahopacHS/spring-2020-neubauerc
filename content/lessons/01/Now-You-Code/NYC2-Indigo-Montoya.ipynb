{
  "cells": [
    {
      "metadata": {},
      "cell_type": "markdown",
      "source": "# Now You Code 2: Indigo Montoya\n\n[The Princess Bride](https://www.rottentomatoes.com/m/princess_bride/) is an adventure film from the 80's, a true cult classic. One of the many notable scenes involves a character Indigo Montoya who explains his character's motivation for revenge through the catch-phase:\n\n\"Hello. My name is Indigo Montoya. You killed my father. Prepare to die!\"\n\nYou can watch the clip here: [https://www.youtube.com/watch?v=YY4cnMmo9qw](https://www.youtube.com/watch?v=YY4cnMmo9qw)\n\nWrite a program in Python which asks the user to enter **your name**, a **relative** and a **past-tense action**. For example if you enter \"Indigo Montoya\", \"Father\" and \"killed\", the program will then output:\n\n\"Hello. My name is Indigo Montoya. You killed my father. Prepare to die!\"\n\nOr you could input \"Mike Fudge\", \"Uncle\" and \"Tickled\" to get:\n\n\"Hello. My name is Mike Fudge. You Tickled my Uncle. Prepare to die!\"\n"
    },
    {
      "metadata": {
        "collapsed": true
      },
      "cell_type": "markdown",
      "source": "## Step 1: Problem Analysis\n\nInputs:\nfull name, relative, past tense action.\nOutputs:\nHello. My name is \"name\", you \"past tense action\" my \"relative\".\nAlgorithm (Steps in Program):\nprint(\"hello, my name is\", name, \",you\", verb, \"my\", relative, \".\")"
    },
    {
      "metadata": {
        "trusted": true
      },
      "cell_type": "code",
      "source": "# Step 2: Write code here\nname= input(\"enter your full name:\")\nverb= input(\" enter a past tense verb:\")\nrelative= input(\"enter a relative:\")\nprint(\"Hello, my name is\",name, \",you\",verb, \"my\",relative, \".\")\n",
      "execution_count": 4,
      "outputs": [
        {
          "output_type": "stream",
          "name": "stdout",
          "text": "enter your full name:slapped\n enter a past tense verb:cn\nenter a relative:father\nHello, my name is slapped ,you cn my father .\n"
        }
      ]
    },
    {
      "metadata": {},
      "cell_type": "markdown",
      "source": "## Step 3: Questions\n\n1. What happens when you neglect the instructions and enter a past-tense action instead of a name? Does the code still run? Why?\n\nAnswer:   \nYes, the code still runs because there is not one set answer for the inputs, the algorithm simply instructs the person so that it makes sense. In a sense, it is like a mad lib.\n2. What type of error is it when the program runs but does not handle bad input?\n\nAnswer: \nthis is known as a runtime error.\n\n\n3. Is there anything you can do in code to correct this type of error? Why or why not?\n\nAnswer:  \nyes, there is a way for yourr to correct this type of error. You simply have to edit the algorithm so that it accepts your input. That is the main problem behind the runtime error, and that can be fixed pretty easily if the person knows what they have to fix.\n\n"
    },
    {
      "metadata": {},
      "cell_type": "markdown",
      "source": "## Step 4: Reflection\n\nReflect upon your experience completing this assignment. This should be a personal narrative, in your own voice, and cite specifics relevant to the activity as to help the grader understand how you arrived at the code you submitted. Things to consider touching upon: Elaborate on the process itself. Did your original problem analysis work as designed?  How many iterations did you go through before you arrived at the solution? Where did you struggle along the way and how did you overcome it? What did you learn from completing the assignment? What do you need to work on to get better? What was most valuable and least valuable about this exercise? Do you have any suggestions for improvements?\n\nTo make a good reflection, you should journal your thoughts, questions and comments while you complete the exercise.\n\nKeep your response to between 100 and 250 words.\n\n`--== Write Your Reflection Below Here ==--`\nThis assignment for the most part was very simple. being that there were instructions specifically given to us to help guide through the coding, we had a good reference. The only part that I struggled with for just a moment is when I first entered the inputs forn the algorithm, and it gave me a syntax error. After reviewing it I realized that when typing the algorithm, I accidentally directed input when I should have used print, this was because just before I was typing the inputs for the variables, but I caught on to this very quickly.\n"
    }
  ],
  "metadata": {
    "anaconda-cloud": {},
    "kernelspec": {
      "name": "python3",
      "display_name": "Python 3",
      "language": "python"
    },
    "language_info": {
      "mimetype": "text/x-python",
      "nbconvert_exporter": "python",
      "name": "python",
      "pygments_lexer": "ipython3",
      "version": "3.5.4",
      "file_extension": ".py",
      "codemirror_mode": {
        "version": 3,
        "name": "ipython"
      }
    },
    "toc": {
      "base_numbering": 1,
      "nav_menu": {},
      "number_sections": false,
      "sideBar": false,
      "skip_h1_title": false,
      "title_cell": "Table of Contents",
      "title_sidebar": "Contents",
      "toc_cell": false,
      "toc_position": {},
      "toc_section_display": false,
      "toc_window_display": false
    }
  },
  "nbformat": 4,
  "nbformat_minor": 1
}
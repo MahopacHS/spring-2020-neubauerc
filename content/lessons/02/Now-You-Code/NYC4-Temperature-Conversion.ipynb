{
  "cells": [
    {
      "metadata": {},
      "cell_type": "markdown",
      "source": "# Now You Code 4: Temperature Conversion\n\nWrite a python program which will convert temperatures from Celcius to Fahrenheit.\nThe program should take a temperature in degrees Celcius as input and output a temperature in degrees Fahrenheit.\n\nExample:\n\n```\nEnter the temperature in Celcius: 100\n100 Celcius is 212 Fahrenheit\n```\n\nHINT: Search the web to find the formula to convert from Celcius to Fahrenheit.\n"
    },
    {
      "metadata": {},
      "cell_type": "markdown",
      "source": "## Step 1: Problem Analysis\n\nInputs:\ntemperature in celcius\nOutputs:\ntemperature in faranheit\n\nAlgorithm (Steps in Program):\ninput temperature in celcius, state what that temperature is then type the temperature converted to faranheit.\n\n\n"
    },
    {
      "metadata": {
        "trusted": true
      },
      "cell_type": "code",
      "source": "# Step 2: write code here\ncelcius= int(input(\"enter a temperature\"))\nfaranheit=int(celcius*9/5)+32\nprint(celcius,\"degrees celcius is\",faranheit,\"degrees faranheit.\")\n",
      "execution_count": 4,
      "outputs": [
        {
          "output_type": "stream",
          "name": "stdout",
          "text": "enter a temperature-1\n-1 degrees celcius is 31 degrees faranheit.\n"
        }
      ]
    },
    {
      "metadata": {},
      "cell_type": "markdown",
      "source": "## Step 3: Questions\n\n1. Why does the program still run when you enter a negative number for temperature? Is this an error?\n\nAnswer:  \nno there is no error because it still adds the numbers no matter if they are negative or not. This is not an error.\n\n2. Would it be difficult to write a program which did the opposite (conversion F to C)? Explain.\n\nAnswer:   no, it would not be hard to write the program to do the opposite. you would simply do the temp in faranheit minus 32 and multiply that number by 5/9.\n\n3. Did you store the conversion in a variable before printing it on the last line? I argue this makes your program easier to understand. Why? \n\nAnswer:   \nYes, I did store the conversion in a variable to make the print algorithm more simple to write out. I broke it into smaller pieces to have means for an easier end.\n\n"
    },
    {
      "metadata": {},
      "cell_type": "markdown",
      "source": "## Step 4: Reflection\n\nReflect upon your experience completing this assignment. This should be a personal narrative, in your own voice, and cite specifics relevant to the activity as to help the grader understand how you arrived at the code you submitted. Things to consider touching upon: Elaborate on the process itself. Did your original problem analysis work as designed?  How many iterations did you go through before you arrived at the solution? Where did you struggle along the way and how did you overcome it? What did you learn from completing the assignment? What do you need to work on to get better? What was most valuable and least valuable about this exercise? Do you have any suggestions for improvements?\n\nTo make a good reflection, you should journal your thoughts, questions and comments while you complete the exercise.\n\nKeep your response to between 100 and 250 words.\n\n`--== Write Your Reflection Below Here ==--`\nThis was an easier assignment for me than the check balancing assignment. I seem to have gotten the hang of it after the check splitter assignment. There was nothing that I struggled with this assignment other than the fact that I first typed type rather than print. This caused a syntax error but it was an easy fix and I have learned not to use it in this instance.\n\n"
    }
  ],
  "metadata": {
    "anaconda-cloud": {},
    "kernelspec": {
      "name": "python3",
      "display_name": "Python 3",
      "language": "python"
    },
    "language_info": {
      "mimetype": "text/x-python",
      "nbconvert_exporter": "python",
      "name": "python",
      "pygments_lexer": "ipython3",
      "version": "3.5.4",
      "file_extension": ".py",
      "codemirror_mode": {
        "version": 3,
        "name": "ipython"
      }
    },
    "toc": {
      "base_numbering": 1,
      "nav_menu": {},
      "number_sections": false,
      "sideBar": false,
      "skip_h1_title": false,
      "title_cell": "Table of Contents",
      "title_sidebar": "Contents",
      "toc_cell": false,
      "toc_position": {},
      "toc_section_display": false,
      "toc_window_display": false
    }
  },
  "nbformat": 4,
  "nbformat_minor": 1
}
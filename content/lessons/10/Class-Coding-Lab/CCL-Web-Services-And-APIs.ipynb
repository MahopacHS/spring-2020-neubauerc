{
  "cells": [
    {
      "metadata": {
        "trusted": true
      },
      "cell_type": "code",
      "source": "# run this code to login to https://okpy.org/ and setup the assignment for submission\nfrom ist256 import okclient\nok = okclient.Lab()",
      "execution_count": null,
      "outputs": []
    },
    {
      "metadata": {},
      "cell_type": "markdown",
      "source": "# In-Class Coding Lab: Web Services and APIs\n\n### Overview\n\nThe web has long evolved from user-consumption to device consumption. In the early days of the web when you wanted to check the weather, you opened up your browser and visited a website. Nowadays your smart watch / smart phone retrieves the weather for you and displays it on the device. Your device can't predict the weather. It's simply consuming a weather based service. \n\nThe key to making device consumption work are API's (Application Program Interfaces). Products we use everyday like smartphones, Amazon's Alexa, and gaming consoles all rely on API's. They seem \"smart\" and \"powerful\" but in actuality they're only interfacing with smart and powerful services in the cloud.\n\nAPI consumption is the new reality of programming; it is why we cover it in this course. Once you undersand how to conusme API's you can write a program to do almost anything and harness the power of the internet to make your own programs look \"smart\" and \"powerful.\" \n\nThis lab covers how to properly use consume web service API's with Python. Here's what we will cover.\n\n1. Understading requests and responses\n1. Proper error handling\n1. Parameter handling\n1. Refactoring as a function\n"
    },
    {
      "metadata": {
        "trusted": true
      },
      "cell_type": "code",
      "source": "# Run this to make sure you have the pre-requisites!\n!pip install -q requests",
      "execution_count": 1,
      "outputs": [
        {
          "output_type": "stream",
          "text": "\u001b[33mWARNING: You are using pip version 19.3.1; however, version 20.1 is available.\r\nYou should consider upgrading via the 'pip install --upgrade pip' command.\u001b[0m\r\n",
          "name": "stdout"
        }
      ]
    },
    {
      "metadata": {},
      "cell_type": "markdown",
      "source": "## Part 1: Understanding Requests and responses\n\nIn this part we learn about the Python requests module. http://docs.python-requests.org/en/master/user/quickstart/ \n\nThis module makes it easy to write code to send HTTP requests over the internet and handle the responses. It will be the cornerstone of our API consumption in this course. While there are other modules which accomplish the same thing, `requests` is the most straightforward and easiest to use.\n\nWe'll begin by importing the modules we will need. We do this here so we won't need to include these lines in the other code we write in this lab."
    },
    {
      "metadata": {
        "trusted": true
      },
      "cell_type": "code",
      "source": "# start by importing the modules we will need\nimport requests\nimport json ",
      "execution_count": 2,
      "outputs": []
    },
    {
      "metadata": {},
      "cell_type": "markdown",
      "source": "### The request \n\nAs you learned in class and your assigned readings, the HTTP protocol has **verbs** which consititue the type of request you will send to the remote resource, or **url**. Based on the url and request type, you will get a **response**.\n\nThe following line of code makes a **get** request (that's the HTTP verb) to Google's Geocoding API service. This service attempts to convert the address (in this case `Syracuse University`) into a set of coordinates global coordinates (Latitude and Longitude), so that location can be plotted on a map.\n"
    },
    {
      "metadata": {
        "trusted": true
      },
      "cell_type": "code",
      "source": "url = 'https://nominatim.openstreetmap.org/search?q=Hinds+Hall+Syracuse+University&format=json'\nresponse = requests.get(url)",
      "execution_count": 3,
      "outputs": []
    },
    {
      "metadata": {},
      "cell_type": "markdown",
      "source": "### The response \n\nThe `get()` method returns a `Response` object variable. I called it `response` in this example but it could be called anything. \n\nThe HTTP response consists of a *status code* and *body*. The status code lets you know if the request worked, while the body of the response contains the actual data. \n"
    },
    {
      "metadata": {
        "trusted": true
      },
      "cell_type": "code",
      "source": "response.ok # did the request work?",
      "execution_count": 4,
      "outputs": [
        {
          "output_type": "execute_result",
          "execution_count": 4,
          "data": {
            "text/plain": "True"
          },
          "metadata": {}
        }
      ]
    },
    {
      "metadata": {
        "trusted": true
      },
      "cell_type": "code",
      "source": "response.text  # what's in the body of the response, as a raw string",
      "execution_count": 5,
      "outputs": [
        {
          "output_type": "execute_result",
          "execution_count": 5,
          "data": {
            "text/plain": "'[{\"place_id\":123115770,\"licence\":\"Data © OpenStreetMap contributors, ODbL 1.0. https://osm.org/copyright\",\"osm_type\":\"way\",\"osm_id\":156759804,\"boundingbox\":[\"43.0381177\",\"43.0384201\",\"-76.1337397\",\"-76.1329516\"],\"lat\":\"43.038215550000004\",\"lon\":\"-76.13334564172943\",\"display_name\":\"110, Einhorn Family Walk, Syracuse, Onondaga County, New York, 13210-1053, United States of America\",\"class\":\"building\",\"type\":\"yes\",\"importance\":0.11100000000000002}]'"
          },
          "metadata": {}
        }
      ]
    },
    {
      "metadata": {},
      "cell_type": "markdown",
      "source": "### Converting responses into Python object variables \n\nIn the case of **web site url's** the response body is **HTML**. This should be rendered in a web browser. But we're dealing with Web Service API's so...\n\nIn the case of **web API url's** the response body could be in a variety of formats from **plain text**, to **XML** or **JSON**. In this course we will only focus on JSON format because as we've seen these translate easily into Python object variables.\n\nLet's convert the response to a Python object variable. I this case it will be a Python dictionary"
    },
    {
      "metadata": {
        "trusted": true
      },
      "cell_type": "code",
      "source": "geodata = response.json()  # try to decode the response from JSON format\ngeodata                    # this is now a Python object variable",
      "execution_count": 6,
      "outputs": [
        {
          "output_type": "execute_result",
          "execution_count": 6,
          "data": {
            "text/plain": "[{'boundingbox': ['43.0381177', '43.0384201', '-76.1337397', '-76.1329516'],\n  'class': 'building',\n  'display_name': '110, Einhorn Family Walk, Syracuse, Onondaga County, New York, 13210-1053, United States of America',\n  'importance': 0.11100000000000002,\n  'lat': '43.038215550000004',\n  'licence': 'Data © OpenStreetMap contributors, ODbL 1.0. https://osm.org/copyright',\n  'lon': '-76.13334564172943',\n  'osm_id': 156759804,\n  'osm_type': 'way',\n  'place_id': 123115770,\n  'type': 'yes'}]"
          },
          "metadata": {}
        }
      ]
    },
    {
      "metadata": {},
      "cell_type": "markdown",
      "source": "With our Python object, we can now walk the list of dictionary to retrieve the latitude and longitude\n"
    },
    {
      "metadata": {
        "trusted": true
      },
      "cell_type": "code",
      "source": "lat = geodata[0]['lat']\nlon =geodata[0]['lon']\nprint(lat, lon)",
      "execution_count": 7,
      "outputs": [
        {
          "output_type": "stream",
          "text": "43.038215550000004 -76.13334564172943\n",
          "name": "stdout"
        }
      ]
    },
    {
      "metadata": {},
      "cell_type": "markdown",
      "source": "In the code above we \"walked\" the Python list of dictionary to get to the location\n\n- `geodata` is a list\n- `geodata[0]` is the first item in that list, a dictionary\n- `geodata[0]['lat']` is a dictionary key which represents the latitude \n- `geodata[0]['lon']` is a dictionary key which represents the longitude\n\nIt should be noted that this process will vary for each API you call, so its important to get accustomed to performing this task. You'll be doing it quite often. \n\nOne final thing to address. What is the type of `lat` and `lon`?"
    },
    {
      "metadata": {
        "trusted": true
      },
      "cell_type": "code",
      "source": "type(lat), type(lon)",
      "execution_count": 8,
      "outputs": [
        {
          "output_type": "execute_result",
          "execution_count": 8,
          "data": {
            "text/plain": "(str, str)"
          },
          "metadata": {}
        }
      ]
    },
    {
      "metadata": {},
      "cell_type": "markdown",
      "source": "Bummer they are strings. we want them to be floats so we will need to parse the strings with the `float()` function:"
    },
    {
      "metadata": {
        "trusted": true
      },
      "cell_type": "code",
      "source": "lat = float(geodata[0]['lat'])\nlon = float(geodata[0]['lon'])\nprint(\"Latitude: %f, Longitude: %f\" % (lat, lon))",
      "execution_count": 9,
      "outputs": [
        {
          "output_type": "stream",
          "text": "Latitude: 43.038216, Longitude: -76.133346\n",
          "name": "stdout"
        }
      ]
    },
    {
      "metadata": {},
      "cell_type": "markdown",
      "source": "### Now You Try It!\n\nWalk the `geodata` object variable and reteieve the value under the key `display_name` and the key  `bounding_box`"
    },
    {
      "metadata": {
        "trusted": true
      },
      "cell_type": "code",
      "source": "# todo:\n# retrieve the place_id put in a variable\n# retrieve the formatted_address put it in a variable\n# print both of them out\nplace = float(geodata[0]['place_id'])\naddress = (geodata[0]['display_name'])\nprint(\"place: %f, Address: %s\" % (place, address))\n\n\n",
      "execution_count": 17,
      "outputs": [
        {
          "output_type": "stream",
          "text": "place: 123115770.000000, Address: 110, Einhorn Family Walk, Syracuse, Onondaga County, New York, 13210-1053, United States of America\n",
          "name": "stdout"
        }
      ]
    },
    {
      "metadata": {},
      "cell_type": "markdown",
      "source": "## Part 2: Parameter Handling\n\nIn the example above we hard-coded \"Hinds Hall Syracuse University\" into the request:\n```\nurl = 'https://nominatim.openstreetmap.org/search?q=Hinds+Hall+Syracuse+University&format=json'\n``` \nA better way to write this code is to allow for the input of any location and supply that to the service. To make this work we need to send parameters into the request as a dictionary. This way we can geolocate any address!\n\nYou'll notice that on the url, we are passing **key-value pairs** the key is `q` and the value is `Hinds+Hall+Syracuse+University`. The other key is `format` and the value is `json`. Hey, Python dictionaries are also key-value pairs so:"
    },
    {
      "metadata": {
        "trusted": true
      },
      "cell_type": "code",
      "source": "url = 'https://nominatim.openstreetmap.org/search'  # base URL without paramters after the \"?\"\nsearch = 'Hinds Hall Syracuse University'\noptions = { 'q' : search, 'format' : 'json'}\nresponse = requests.get(url, params = options)            \ngeodata = response.json()\ncoords = { 'lat' : float(geodata[0]['lat']), 'lng' : float(geodata[0]['lon']) }\nprint(\"Search for:\", search)\nprint(\"Coordinates:\", coords)\nprint(\"%s is located at (%f,%f)\" %(search, coords['lat'], coords['lng']))",
      "execution_count": 18,
      "outputs": [
        {
          "output_type": "stream",
          "text": "Search for: Hinds Hall Syracuse University\nCoordinates: {'lat': 43.038215550000004, 'lng': -76.13334564172943}\nHinds Hall Syracuse University is located at (43.038216,-76.133346)\n",
          "name": "stdout"
        }
      ]
    },
    {
      "metadata": {},
      "cell_type": "markdown",
      "source": "### Looking up any address\n\nRECALL: For `requests.get(url, params = options)` the part that says `params = options` is called a **named argument**, which is Python's way of specifying an optional function argument.\n\nWith our parameter now outside the url, we can easily re-write this code to work for any location! Go ahead and execute the code and input `Queens, NY`. This will retrieve the coordinates `(40.728224,-73.794852)`"
    },
    {
      "metadata": {
        "trusted": true
      },
      "cell_type": "code",
      "source": "url = 'https://nominatim.openstreetmap.org/search'  # base URL without paramters after the \"?\"\nsearch = input(\"Enter a loacation to Geocode: \")\noptions = { 'q' : search, 'format' : 'json'}\nresponse = requests.get(url, params = options)            \ngeodata = response.json()\ncoords = { 'lat' : float(geodata[0]['lat']), 'lng' : float(geodata[0]['lon']) }\nprint(\"Search for:\", search)\nprint(\"Coordinates:\", coords)\nprint(\"%s is located at (%f,%f)\" %(search, coords['lat'], coords['lng']))",
      "execution_count": 19,
      "outputs": [
        {
          "output_type": "stream",
          "name": "stdout",
          "text": "Enter a loacation to Geocode: Mahopac, NY\nSearch for: Mahopac, NY\nCoordinates: {'lat': 41.371217, 'lng': -73.73224142636172}\nMahopac, NY is located at (41.371217,-73.732241)\n"
        }
      ]
    },
    {
      "metadata": {},
      "cell_type": "markdown",
      "source": "### So useful, it should be a function!\n\nOne thing you'll come to realize quickly is that your API calls should be wrapped in functions. This promotes **readability** and **code re-use**. For example:"
    },
    {
      "metadata": {
        "trusted": true
      },
      "cell_type": "code",
      "source": "def get_coordinates(search):\n    url = 'https://nominatim.openstreetmap.org/search'  # base URL without paramters after the \"?\"\n    options = { 'q' : search, 'format' : 'json'}\n    response = requests.get(url, params = options)            \n    geodata = response.json()\n    coords = { 'lat' : float(geodata[0]['lat']), 'lng' : float(geodata[0]['lon']) }\n    return coords\n\n# main program here:\nlocation = input(\"Enter a location: \")\ncoords = get_coordinates(location)\nprint(\"%s is located at (%f,%f)\" %(location, coords['lat'], coords['lng']))\n",
      "execution_count": 20,
      "outputs": [
        {
          "output_type": "stream",
          "name": "stdout",
          "text": "Enter a location: Putnam County, NY\nPutnam County, NY is located at (41.426996,-73.760156)\n"
        }
      ]
    },
    {
      "metadata": {},
      "cell_type": "markdown",
      "source": "### Other request methods\n\nNot every API we call uses the `get()` method. Some use `post()` because the amount of data you provide it too large to place on the url. \n\nAn example of this is the **Text-Processing.com** sentiment analysis service. http://text-processing.com/docs/sentiment.html This service will detect the sentiment or mood of text. You give the service some text, and it tells you whether that text is positive, negative or neutral. "
    },
    {
      "metadata": {
        "trusted": true
      },
      "cell_type": "code",
      "source": "# 'you suck' == 'negative'\nurl = 'http://text-processing.com/api/sentiment/'\noptions = { 'text' : 'you suck'}\nresponse = requests.post(url, data = options)\nsentiment = response.json()\nsentiment",
      "execution_count": 21,
      "outputs": [
        {
          "output_type": "execute_result",
          "execution_count": 21,
          "data": {
            "text/plain": "{'label': 'neg',\n 'probability': {'neg': 0.520097595188211,\n  'neutral': 0.3886824782142297,\n  'pos': 0.479902404811789}}"
          },
          "metadata": {}
        }
      ]
    },
    {
      "metadata": {
        "trusted": true
      },
      "cell_type": "code",
      "source": "# 'I love cheese' == 'positive'\nurl = 'http://text-processing.com/api/sentiment/'\noptions = { 'text' : 'I love cheese'}\nresponse = requests.post(url, data = options)\nsentiment = response.json()\nsentiment",
      "execution_count": 22,
      "outputs": [
        {
          "output_type": "execute_result",
          "execution_count": 22,
          "data": {
            "text/plain": "{'label': 'pos',\n 'probability': {'neg': 0.3866732207796809,\n  'neutral': 0.18366003088446245,\n  'pos': 0.6133267792203191}}"
          },
          "metadata": {}
        }
      ]
    },
    {
      "metadata": {},
      "cell_type": "markdown",
      "source": "In the examples provided we used the `post()` method instead of the `get()` method. the `post()` method has a named argument `data` which takes a dictionary of data. The key required by **text-processing.com** is `text` which hold the text you would like to process for sentiment.\n\nWe use a post in the event the text we wish to process is very long. Case in point:"
    },
    {
      "metadata": {
        "trusted": true
      },
      "cell_type": "code",
      "source": "tweet = \"Arnold Schwarzenegger isn't voluntarily leaving the Apprentice, he was fired by his bad (pathetic) ratings, not by me. Sad end to a great show\"\nurl = 'http://text-processing.com/api/sentiment/'\noptions = { 'text' : tweet }\nresponse = requests.post(url, data = options)\nsentiment = response.json()\nsentiment",
      "execution_count": 23,
      "outputs": [
        {
          "output_type": "execute_result",
          "execution_count": 23,
          "data": {
            "text/plain": "{'label': 'neg',\n 'probability': {'neg': 0.8406241500282121,\n  'neutral': 0.298451882823427,\n  'pos': 0.1593758499717879}}"
          },
          "metadata": {}
        }
      ]
    },
    {
      "metadata": {},
      "cell_type": "markdown",
      "source": "### Now You Try It!\n\nUse the above example to write a program which will input any text and print the sentiment using this API!"
    },
    {
      "metadata": {
        "trusted": true
      },
      "cell_type": "code",
      "source": "# todo write code here\ntweet= input(\"Enter a sentiment:\")\nurl= 'http://text-processing.com/api/sentiment/'\noptions= {'text': tweet}\nresponse= requests.post(url, data = options)\nsentiment= response.json()\nsentiment\n",
      "execution_count": 24,
      "outputs": [
        {
          "output_type": "stream",
          "name": "stdout",
          "text": "Enter a sentiment:Bazinga\n"
        },
        {
          "output_type": "execute_result",
          "execution_count": 24,
          "data": {
            "text/plain": "{'label': 'neutral',\n 'probability': {'neg': 0.5095519989067516,\n  'neutral': 0.5950890614040548,\n  'pos': 0.4904480010932484}}"
          },
          "metadata": {}
        }
      ]
    },
    {
      "metadata": {},
      "cell_type": "markdown",
      "source": "\n## Part 3: Proper Error Handling (In 3 Simple Rules)\n\nWhen you write code that depends on other people's code from around the Internet, there's a lot that can go wrong. Therefore we perscribe the following advice:\n\n```\nAssume anything that CAN go wrong WILL go wrong\n```\n"
    },
    {
      "metadata": {},
      "cell_type": "markdown",
      "source": "### Rule 1: Don't assume the internet 'always works'\n\nThe first rule of programming over a network is to NEVER assume the network is available. You need to assume the worst. No WiFi, user types in a bad url, the remote website is down, etc. \n\nWe handle this in the `requests` module by catching the `requests.exceptions.RequestException` Here's an example:"
    },
    {
      "metadata": {
        "trusted": true
      },
      "cell_type": "code",
      "source": "url = \"http://this is not a website\"\ntry:\n\n    response = requests.get(url)  # throws an exception when it cannot connect\n\n# internet is broken\nexcept requests.exceptions.RequestException as e:\n    print(\"ERROR: Cannot connect to \", url)\n    print(\"DETAILS:\", e)",
      "execution_count": 25,
      "outputs": []
    },
    {
      "metadata": {},
      "cell_type": "markdown",
      "source": "### Rule 2: Don't assume the response you get back is valid\n\nAssuming the internet is not broken (Rule 1) You should now check for HTTP response 200 which means the url responded successfully.  Other responses like 404 or 501 indicate an error occured and that means you should not keep processing the response.\n\nHere's one way to do it:"
    },
    {
      "metadata": {
        "trusted": true
      },
      "cell_type": "code",
      "source": "url = 'http://www.syr.edu/mikeisawesum'  # this should 404\ntry:\n    \n    response = requests.get(url)\n    \n    if response.ok:  # same as response.status_code == 200\n        data = response.text\n    else: # Some other non 200 response code\n        print(\"There was an Error requesting:\", url, \" HTTP Response Code: \", response.status_code)\n\n# internet is broken\nexcept requests.exceptions.RequestException as e: \n    print(\"ERROR: Cannot connect to \", url)\n    print(\"DETAILS:\", e)\n",
      "execution_count": 26,
      "outputs": [
        {
          "output_type": "stream",
          "text": "There was an Error requesting: http://www.syr.edu/mikeisawesum  HTTP Response Code:  404\n",
          "name": "stdout"
        }
      ]
    },
    {
      "metadata": {},
      "cell_type": "markdown",
      "source": "### Rule 2a: Use exceptions instead of if else in this case\n\nPersonally I don't like to use `if ... else` to handle an error. Instead, I prefer to instruct `requests` to throw an exception of `requests.exceptions.HTTPError` whenever the response is not ok. This makes the code you write a little cleaner.\n\nErrors are rare occurences, and so I  don't like error handling cluttering up my code. \n"
    },
    {
      "metadata": {
        "trusted": true
      },
      "cell_type": "code",
      "source": "url = 'http://www.syr.edu/mikeisawesum'  # this should 404\ntry:\n    \n    response = requests.get(url)  # throws an exception when it cannot connect\n    response.raise_for_status()   # throws an exception when not 'ok'\n    data = response.text\n\n# response not ok\nexcept requests.exceptions.HTTPError as e:\n    print(\"ERROR: Response from \", url, 'was not ok.')\n    print(\"DETAILS:\", e)\n        \n# internet is broken\nexcept requests.exceptions.RequestException as e: \n    print(\"ERROR: Cannot connect to \", url)\n    print(\"DETAILS:\", e)\n",
      "execution_count": 27,
      "outputs": [
        {
          "output_type": "stream",
          "text": "ERROR: Response from  http://www.syr.edu/mikeisawesum was not ok.\nDETAILS: 404 Client Error: Not Found for url: https://www.syracuse.edu/mikeisawesum\n",
          "name": "stdout"
        }
      ]
    },
    {
      "metadata": {},
      "cell_type": "markdown",
      "source": "###  Rule 3: Don't assume the data you get back is the data you expect.\n\nAnd finally, do not assume the data arriving the the `response` is the data you expected. Specifically when you try and decode the `JSON` don't assume that will go smoothly. Catch the `json.decoder.JSONDecodeError`."
    },
    {
      "metadata": {
        "trusted": true
      },
      "cell_type": "code",
      "source": "url = 'http://www.syr.edu' # this is HTML, not JSON\ntry:\n\n    response = requests.get(url)  # throws an exception when it cannot connect\n    response.raise_for_status()   # throws an exception when not 'ok'\n    data = response.json()        # throws an exception when cannot decode json\n    \n# cannot decode json\nexcept json.decoder.JSONDecodeError as e: \n    print(\"ERROR: Cannot decode the response into json\")\n    print(\"DETAILS\", e)\n\n# response not ok\nexcept requests.exceptions.HTTPError as e:\n    print(\"ERROR: Response from \", url, 'was not ok.')\n    print(\"DETAILS:\", e)\n        \n# internet is broken\nexcept requests.exceptions.RequestException as e: \n    print(\"ERROR: Cannot connect to \", url)\n    print(\"DETAILS:\", e)",
      "execution_count": 28,
      "outputs": [
        {
          "output_type": "stream",
          "text": "ERROR: Cannot decode the response into json\nDETAILS Expecting value: line 1 column 1 (char 0)\n",
          "name": "stdout"
        }
      ]
    },
    {
      "metadata": {},
      "cell_type": "markdown",
      "source": "### Now You try it!\n\nUsing the last example above, write a program to input a location, call the `get_coordinates()` function, then print the coordindates. Make sure to handle all three types of exceptions!!!\n"
    },
    {
      "metadata": {
        "trusted": true
      },
      "cell_type": "code",
      "source": "# todo write code here to input a location, look up coordinates, and print\n# it should handle errors!!!\ndef get_coordinates(search):\n    url = 'https://nominatim.openstreetmap.org/search'\n    search = input(\"Enter a loacation to Geocode: \")\n    options = { 'q' : search, 'format' : 'json'}\n    response = requests.get(url, params = options)            \n    geodata = response.json()\n    coords = { 'lat' : float(geodata[0]['lat']), 'lng' : float(geodata[0]['lon']) }\n    print(\"Search for:\", search)\n    print(\"Coordinates:\", coords)\n    print(\"%s is located at (%f,%f)\" %(search, coords['lat'], coords['lng']))\n\ntry: \n    \n    response= requests.get(url)\n    response.raise_for_status()\n    data=response.json\n\nexcept json.decoder.JSONDecodeError as e:\n    print('Error: cannot decode the response into JSON')\n    print(\"DETAILS:\",e)\n    \nexcept requests.exceptions.HTTPError as e:\n    print('ERROR: response from',url,'was not ok')\n    print('DETAILS:',e)\n\nexcept requests.exceptions.RequestException as e:\n    print('ERROR: Cannot connect to',url)\n    print('Details:',e)\n    \n    \n\n\n\n",
      "execution_count": 34,
      "outputs": []
    },
    {
      "metadata": {},
      "cell_type": "markdown",
      "source": "## Metacognition\n\nPlease answer the following questions. This should be a personal narrative, in your own voice. Answer the questions by double clicking on the question and placing your answer next to the Answer: prompt.\n\n\n1. Record any questions you have about this lab that you would like to ask in recitation. It is expected you will have questions if you did not complete the code sections correctly.  Learning how to articulate what you do not understand is an important skill of critical thinking. \n\nAnswer: For this lab, the only question I have to ask is what the specific difference between the get and post methods? Is one easier than the other and are they interchangeable?\n\n2. What was the most difficult aspect of completing this lab? Least difficult?  \n\nAnswer: The most difficult aspect of this lab for me was the final now you try where we had to find the coordinates while using the exceptions. It is very straight forward because it is already a set code, but it was just very time consuming.\n\n3. What aspects of this lab do you find most valuable? Least valuable?\n\nAnswer: This lab overall is very valuable. Even Mr. Fudge said that this is one of the most important skills to have when it comes to coding. just about every aspect of this lab was crucial in learning programming.\n\n4. Rate your comfort level with this week's material so far.   \n\n1 ==> I can do this on my own and explain how to do it.   \n2 ==> I can do this on my own without any help.   \n3 ==> I can do this with help or guidance from others. If you choose this level please list those who helped you.   \n4 ==> I don't understand this at all yet and need extra help. If you choose this please try to articulate that which you do not understand.   \n\nAnswer: I am at a 3 with this specific lab. I can do it all on my own without help, but I need a lot of time to work through each piece of the lab and play with different potential codes. However I would not be able to explain to anyone how it is done, I would have to show them through doing it and potentially playing with the code more.\n\n"
    },
    {
      "metadata": {
        "trusted": true
      },
      "cell_type": "code",
      "source": "# to save and turn in your work, execute this cell. Your latest submission will be graded. \nok.submit()",
      "execution_count": null,
      "outputs": []
    }
  ],
  "metadata": {
    "anaconda-cloud": {},
    "kernelspec": {
      "name": "python3",
      "display_name": "Python 3",
      "language": "python"
    },
    "language_info": {
      "mimetype": "text/x-python",
      "nbconvert_exporter": "python",
      "name": "python",
      "file_extension": ".py",
      "version": "3.5.4",
      "pygments_lexer": "ipython3",
      "codemirror_mode": {
        "version": 3,
        "name": "ipython"
      }
    },
    "toc": {
      "base_numbering": 1,
      "nav_menu": {},
      "number_sections": false,
      "sideBar": false,
      "skip_h1_title": false,
      "title_cell": "Table of Contents",
      "title_sidebar": "Contents",
      "toc_cell": false,
      "toc_position": {},
      "toc_section_display": false,
      "toc_window_display": false
    }
  },
  "nbformat": 4,
  "nbformat_minor": 1
}
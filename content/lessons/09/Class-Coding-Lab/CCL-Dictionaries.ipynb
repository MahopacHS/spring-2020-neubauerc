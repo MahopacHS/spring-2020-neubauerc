{
  "cells": [
    {
      "metadata": {
        "trusted": true
      },
      "cell_type": "code",
      "source": "# run this code to login to https://okpy.org/ and setup the assignment for submission\nfrom ist256 import okclient\nok = okclient.Lab()",
      "execution_count": null,
      "outputs": []
    },
    {
      "metadata": {},
      "cell_type": "markdown",
      "source": "# In-Class Coding Lab: Dictionaries\n\nThe goals of this lab are to help you understand:\n\n - How to use Python Dictionaries\n - Basic Dictionary methods\n - Dealing with Key errors\n - How to use lists of Dictionaries\n - How to encode / decode python dictionaries to json.\n \n## Dictionaries are Key-Value Pairs.\n\nThe **key** is unique for each Python dictionary object and is always of type `str`. The **value** stored under the key can be any Python type. \n\nThis example creates a `stock` variable with two keys `symbol` and `name`. We access the dictionary key with `['keyname']`."
    },
    {
      "metadata": {
        "trusted": true
      },
      "cell_type": "code",
      "source": "stock = {} # empty dictionary\nstock['symbol'] = 'AAPL'\nstock['name'] = 'Apple Computer'\nprint(stock)\nprint(stock['symbol'])\nprint(stock['name'])",
      "execution_count": 1,
      "outputs": [
        {
          "output_type": "stream",
          "text": "{'symbol': 'AAPL', 'name': 'Apple Computer'}\nAAPL\nApple Computer\n",
          "name": "stdout"
        }
      ]
    },
    {
      "metadata": {},
      "cell_type": "markdown",
      "source": "While Python lists are best suited for storing multiple values of the same type ( like grades ), Python dictionaries are best suited for storing hybrid values, or values with multiple attributes.\n\nIn the example above we created an empty dictionary `{}` then assigned keys `symbol` and `name` as part of individual assignment statements.\n\nWe can also build the dictionary in a single statement, like this:"
    },
    {
      "metadata": {
        "trusted": true
      },
      "cell_type": "code",
      "source": "stock = { 'name' : 'Apple Computer', 'symbol' : 'AAPL', 'value' : 125.6 }\nprint(stock)\nprint(\"%s (%s) has a value of $%.2f\" %(stock['name'], stock['symbol'], stock['value']))",
      "execution_count": 2,
      "outputs": [
        {
          "output_type": "stream",
          "text": "{'symbol': 'AAPL', 'name': 'Apple Computer', 'value': 125.6}\nApple Computer (AAPL) has a value of $125.60\n",
          "name": "stdout"
        }
      ]
    },
    {
      "metadata": {},
      "cell_type": "markdown",
      "source": "## Dictionaries are mutable\n\nThis means we can change their value. We can add and remove keys and update the value of keys. This makes dictionaries quite useful for storing  data."
    },
    {
      "metadata": {
        "trusted": true
      },
      "cell_type": "code",
      "source": "# let's add 2 new keys\nprint(\"Before changes\", stock)\nstock['low'] = 119.85\nstock['high'] = 127.0\n\n# and update the value key\nstock['value'] = 126.25\nprint(\"After change\", stock)\n",
      "execution_count": 3,
      "outputs": [
        {
          "output_type": "stream",
          "text": "Before changes {'symbol': 'AAPL', 'name': 'Apple Computer', 'value': 125.6}\nAfter change {'symbol': 'AAPL', 'low': 119.85, 'high': 127.0, 'name': 'Apple Computer', 'value': 126.25}\n",
          "name": "stdout"
        }
      ]
    },
    {
      "metadata": {},
      "cell_type": "markdown",
      "source": "## Now you Try It!\n\nCreate a python dictionary called `car` with the following keys `make`, `model` and `price`. Set appropriate values and print out the dictionary.\n"
    },
    {
      "metadata": {
        "trusted": true
      },
      "cell_type": "code",
      "source": "# TODO: Write code here \ncar= {'make':'Dodge', 'Model':'Challenger', 'price':28095.00}\nprint(car)\nprint(car['make'])\nprint(car['Model'])\nprint(car['price'])\n\n",
      "execution_count": 4,
      "outputs": [
        {
          "output_type": "stream",
          "text": "{'Model': 'Challenger', 'make': 'Dodge', 'price': 28095.0}\nDodge\nChallenger\n28095.0\n",
          "name": "stdout"
        }
      ]
    },
    {
      "metadata": {},
      "cell_type": "markdown",
      "source": "## What Happens when the key is not there?\n\nLet's go back to our stock example. What happens when we try to read a key not present in the dictionary? \n\nThe answer is that Python will report a `KeyError` "
    },
    {
      "metadata": {
        "trusted": true
      },
      "cell_type": "code",
      "source": "print( stock['change'] )",
      "execution_count": 5,
      "outputs": [
        {
          "output_type": "error",
          "ename": "KeyError",
          "evalue": "'change'",
          "traceback": [
            "\u001b[0;31m---------------------------------------------------------------------------\u001b[0m",
            "\u001b[0;31mKeyError\u001b[0m                                  Traceback (most recent call last)",
            "\u001b[0;32m<ipython-input-5-28c6e1db7ee9>\u001b[0m in \u001b[0;36m<module>\u001b[0;34m()\u001b[0m\n\u001b[0;32m----> 1\u001b[0;31m \u001b[0mprint\u001b[0m\u001b[0;34m(\u001b[0m \u001b[0mstock\u001b[0m\u001b[0;34m[\u001b[0m\u001b[0;34m'change'\u001b[0m\u001b[0;34m]\u001b[0m \u001b[0;34m)\u001b[0m\u001b[0;34m\u001b[0m\u001b[0m\n\u001b[0m",
            "\u001b[0;31mKeyError\u001b[0m: 'change'"
          ]
        }
      ]
    },
    {
      "metadata": {},
      "cell_type": "markdown",
      "source": "No worries. We know how to handle run-time errors in Python... use `try except` !!!"
    },
    {
      "metadata": {
        "trusted": true
      },
      "cell_type": "code",
      "source": "try:\n    print( stock['change'] )\nexcept KeyError:\n    print(\"The key 'change' does not exist!\")",
      "execution_count": 6,
      "outputs": [
        {
          "output_type": "stream",
          "text": "The key 'change' does not exist!\n",
          "name": "stdout"
        }
      ]
    },
    {
      "metadata": {},
      "cell_type": "markdown",
      "source": "## Avoiding KeyError\n\nYou can avoid `KeyError` using the `get()` dictionary method. This method will return a default value when the key does not exist.\n\nThe first argument to `get()` is the key to get, the second argument is the value to return when the key does not exist. "
    },
    {
      "metadata": {
        "trusted": true
      },
      "cell_type": "code",
      "source": "print(stock.get('name','no key'))\nprint(stock.get('change', 'no key'))",
      "execution_count": 7,
      "outputs": [
        {
          "output_type": "stream",
          "text": "Apple Computer\nno key\n",
          "name": "stdout"
        }
      ]
    },
    {
      "metadata": {},
      "cell_type": "markdown",
      "source": "## Now You try It!\n\nWrite a program to ask the user to input a key for the `stock` variable. \n\nIf the key exists, print the value, otherwise print 'Key does not exist'"
    },
    {
      "metadata": {
        "trusted": true
      },
      "cell_type": "code",
      "source": "# TODO: write code here\nstock={'variable':'AAPL'}\ninput(\"enter the name for the Apple Computer Stock:\")\nfor variable in stock:\n    if stock=='variable':\n        print(stock['variable'])\n    if stock !='variable':\n        try:\n            print(stock['variable'])\n        except:\n            print(\"the variable does not exist\")\n    \n    \n    ",
      "execution_count": 36,
      "outputs": [
        {
          "output_type": "stream",
          "name": "stdout",
          "text": "enter the name for the Apple Computer Stock:AAPL\nAAPL\n"
        }
      ]
    },
    {
      "metadata": {},
      "cell_type": "markdown",
      "source": "## Enumerating keys and values\n\nYou can enumerate keys and values easily, using the `keys()` and `values()` methods:"
    },
    {
      "metadata": {
        "trusted": true
      },
      "cell_type": "code",
      "source": "print(\"KEYS\")\nfor k in stock.keys():\n    print(k)\n    \nprint(\"VALUES\")\nfor v in stock.values():\n    print(v)",
      "execution_count": 14,
      "outputs": [
        {
          "output_type": "stream",
          "text": "KEYS\nvariable\nVALUES\nAAPL\n",
          "name": "stdout"
        }
      ]
    },
    {
      "metadata": {},
      "cell_type": "markdown",
      "source": "## List of Dictionary\n\nThe List of Dictionary object in Python allows us to create useful in-memory data structures. It's one of the features of Python that sets it apart from other programming languages. \n\nLet's use it to build a portfolio (list of 4 stocks)."
    },
    {
      "metadata": {
        "trusted": true
      },
      "cell_type": "code",
      "source": "portfolio = [\n    { 'symbol' : 'AAPL', 'name' : 'Apple Computer Corp.', 'value': 136.66 },\n    { 'symbol' : 'AMZN', 'name' : 'Amazon.com, Inc.', 'value': 845.24 },\n    { 'symbol' : 'MSFT', 'name' : 'Microsoft Corporation', 'value': 64.62 },\n    { 'symbol' : 'TSLA', 'name' : 'Tesla, Inc.', 'value': 257.00 }    \n]\n\nprint(\"first stock\", portfolio[0])           \nprint(\"name of first stock\", portfolio[0]['name'])   \nprint(\"last stock\", portfolio[-1])          \nprint(\"value of 2nd stock\",  portfolio[1]['value'])  \n",
      "execution_count": 15,
      "outputs": [
        {
          "output_type": "stream",
          "text": "first stock {'symbol': 'AAPL', 'name': 'Apple Computer Corp.', 'value': 136.66}\nname of first stock Apple Computer Corp.\nlast stock {'symbol': 'TSLA', 'name': 'Tesla, Inc.', 'value': 257.0}\nvalue of 2nd stock 845.24\n",
          "name": "stdout"
        }
      ]
    },
    {
      "metadata": {
        "trusted": true
      },
      "cell_type": "code",
      "source": "print(\"Here's a loop:\")\nfor stock in portfolio:\n    print(f\"  {stock['name']} ${stock['value']}\")",
      "execution_count": 17,
      "outputs": [
        {
          "output_type": "error",
          "ename": "SyntaxError",
          "evalue": "invalid syntax (<ipython-input-17-814dcb21616a>, line 3)",
          "traceback": [
            "\u001b[0;36m  File \u001b[0;32m\"<ipython-input-17-814dcb21616a>\"\u001b[0;36m, line \u001b[0;32m3\u001b[0m\n\u001b[0;31m    print(f\"  {stock['name']} ${stock['value']}\")\u001b[0m\n\u001b[0m                                               ^\u001b[0m\n\u001b[0;31mSyntaxError\u001b[0m\u001b[0;31m:\u001b[0m invalid syntax\n"
          ]
        }
      ]
    },
    {
      "metadata": {},
      "cell_type": "markdown",
      "source": "### Now You Try it!\n\nWrite a for loop to print the stock symbol and value of all stocks."
    },
    {
      "metadata": {
        "trusted": true
      },
      "cell_type": "code",
      "source": "## TODO: Write code here\nfor stock in portfolio:\n        print({portfolio['symbol']},{[portfolio['value']})\n        \n        \n",
      "execution_count": 38,
      "outputs": [
        {
          "output_type": "error",
          "ename": "SyntaxError",
          "evalue": "invalid syntax (<ipython-input-38-b8761bee40ee>, line 3)",
          "traceback": [
            "\u001b[0;36m  File \u001b[0;32m\"<ipython-input-38-b8761bee40ee>\"\u001b[0;36m, line \u001b[0;32m3\u001b[0m\n\u001b[0;31m    print({portfolio['symbol']},{[portfolio['value']})\u001b[0m\n\u001b[0m                                                    ^\u001b[0m\n\u001b[0;31mSyntaxError\u001b[0m\u001b[0;31m:\u001b[0m invalid syntax\n"
          ]
        }
      ]
    },
    {
      "metadata": {},
      "cell_type": "markdown",
      "source": "## Putting It All Together\n\nWrite a program to build out your personal stock portfolio.\n\n```\n1. Start with an empty list, called portfolio\n2. loop\n3.     create a new stock dictionary\n3.     input a stock symbol, or type 'QUIT' to print portfolio\n4.     if symbol equals 'QUIT' exit loop\n5.     add symbol value to stock dictionary under 'symbol' key\n6.     input stock value as float\n7.     add stock value to stock dictionary under 'value key\n8.     append stock variable to portfolio list variable\n9. time to print the portfolio: for each stock in the portfolio\n10.    print stock symbol and stock value, like this \"AAPL $136.66\"\n```\n"
    },
    {
      "metadata": {
        "trusted": true
      },
      "cell_type": "code",
      "source": "portfolio = {'symbol' : 'AAPL', 'value': 136.66, \n             ",
      "execution_count": null,
      "outputs": []
    },
    {
      "metadata": {},
      "cell_type": "markdown",
      "source": "## Metacognition\n\nPlease answer the following questions. This should be a personal narrative, in your own voice. Answer the questions by double clicking on the question and placing your answer next to the Answer: prompt.\n\n\n1. Record any questions you have about this lab that you would like to ask in recitation. It is expected you will have questions if you did not complete the code sections correctly.  Learning how to articulate what you do not understand is an important skill of critical thinking. \n\nAnswer: \n\n2. What was the most difficult aspect of completing this lab? Least difficult?  \n\nAnswer: \n\n3. What aspects of this lab do you find most valuable? Least valuable?\n\nAnswer: \n\n4. Rate your comfort level with this week's material so far.   \n\n1 ==> I can do this on my own and explain how to do it.   \n2 ==> I can do this on my own without any help.   \n3 ==> I can do this with help or guidance from others. If you choose this level please list those who helped you.   \n4 ==> I don't understand this at all yet and need extra help. If you choose this please try to articulate that which you do not understand.   \n\nAnswer: \n\n"
    },
    {
      "metadata": {
        "trusted": true
      },
      "cell_type": "code",
      "source": "# to save and turn in your work, execute this cell. Your latest submission will be graded. \nok.submit()",
      "execution_count": null,
      "outputs": []
    }
  ],
  "metadata": {
    "anaconda-cloud": {},
    "kernelspec": {
      "name": "python3",
      "display_name": "Python 3",
      "language": "python"
    },
    "language_info": {
      "mimetype": "text/x-python",
      "nbconvert_exporter": "python",
      "name": "python",
      "file_extension": ".py",
      "version": "3.5.4",
      "pygments_lexer": "ipython3",
      "codemirror_mode": {
        "version": 3,
        "name": "ipython"
      }
    },
    "toc": {
      "base_numbering": 1,
      "nav_menu": {},
      "number_sections": false,
      "sideBar": false,
      "skip_h1_title": false,
      "title_cell": "Table of Contents",
      "title_sidebar": "Contents",
      "toc_cell": false,
      "toc_position": {},
      "toc_section_display": false,
      "toc_window_display": false
    }
  },
  "nbformat": 4,
  "nbformat_minor": 1
}
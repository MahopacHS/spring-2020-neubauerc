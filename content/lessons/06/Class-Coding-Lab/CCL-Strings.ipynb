{
  "cells": [
    {
      "metadata": {
        "trusted": true
      },
      "cell_type": "code",
      "source": "# run this code to login to https://okpy.org/ and setup the assignment for submission\nfrom ist256 import okclient\nok = okclient.Lab()",
      "execution_count": null,
      "outputs": []
    },
    {
      "metadata": {},
      "cell_type": "markdown",
      "source": "# In-Class Coding Lab: Strings\n\nThe goals of this lab are to help you to understand:\n\n- String slicing for substrings\n- How to use Python's built-in String functions in the standard library.\n- Tokenizing and Parsing Data\n- How to create user-defined functions to parse and tokenize strings\n\n\n# Strings\n\n## Strings are immutable sequences\n\nPython strings are immutable sequences.This means we cannot change them \"in part\" and there is impicit ordering. \n\nThe characters in a string are zero-based. Meaning the index of the first character is 0.\n\nWe can leverage this in a variety of ways.\n\nFor example:"
    },
    {
      "metadata": {
        "trusted": true
      },
      "cell_type": "code",
      "source": "x = input(\"Enter something: \")\nprint (\"You typed:\", x)\nprint (\"number of characters:\", len(x) )\nprint (\"First character is:\", x[0])\nprint (\"Last character is:\", x[-1])\n\n## They're sequences, so you can loop definately:\nprint(\"Printing one character at a time: \")\nfor ch in x:\n    print(ch) # print a character at a time!",
      "execution_count": 5,
      "outputs": [
        {
          "output_type": "stream",
          "name": "stdout",
          "text": "Enter something: hello\nYou typed: hello\nnumber of characters: 5\nFirst character is: h\nLast character is: o\nPrinting one character at a time: \nh\ne\nl\nl\no\n"
        }
      ]
    },
    {
      "metadata": {},
      "cell_type": "markdown",
      "source": "## Slices as substrings\n\nPython lists and sequences use **slice notation** which is a clever way to get a substring from a given string.\n\nSlice notation requires two values: A start index and the end index. The substring returned starts at the start index, and *ends at the position before the end index*. It ends at the position *before* so that when you slice a string into parts you know where you've \"left off\". \n\nFor example:"
    },
    {
      "metadata": {
        "trusted": true
      },
      "cell_type": "code",
      "source": "state = \"Mississippi\"\nprint (state[0:4])          # Miss\nprint (state[4:len(state)]) # issippi",
      "execution_count": 6,
      "outputs": [
        {
          "output_type": "stream",
          "text": "Miss\nissippi\n",
          "name": "stdout"
        }
      ]
    },
    {
      "metadata": {},
      "cell_type": "markdown",
      "source": "In this next example, play around with the variable `split` adjusting it to how you want the string to be split up. Re run the cell several times with different values to get a feel for what happens."
    },
    {
      "metadata": {
        "trusted": true
      },
      "cell_type": "code",
      "source": "state = \"Mississippi\"\nsplit = 4   # TODO: play around with this number\nleft = state[0:split]\nright = state[split:len(state)]\nprint(right, left)",
      "execution_count": 7,
      "outputs": [
        {
          "output_type": "stream",
          "text": "issippi Miss\n",
          "name": "stdout"
        }
      ]
    },
    {
      "metadata": {},
      "cell_type": "markdown",
      "source": "### Slicing from the beginning or to the end\n\nIf you omit the begin or end slice, Python will slice from the beginnning of the string or all the way to the end. So if you say `x[:5]` its the same as `x[0:5]`\n\nFor example:"
    },
    {
      "metadata": {
        "trusted": true
      },
      "cell_type": "code",
      "source": "state = \"Ohio\"\nprint(state[0:2], state[:2]) # same!\nprint(state[2:len(state)], state[2:]) # same\n",
      "execution_count": 8,
      "outputs": [
        {
          "output_type": "stream",
          "text": "Oh Oh\nio io\n",
          "name": "stdout"
        }
      ]
    },
    {
      "metadata": {},
      "cell_type": "markdown",
      "source": "### Now Try It!\n\nSplit the string  `\"New Hampshire\"` into two sub-strings one containing `\"New\"` the other containing `\"Hampshire\"` (without the space)."
    },
    {
      "metadata": {
        "trusted": true
      },
      "cell_type": "code",
      "source": "## TODO: Write code here\nstate= \"New Hampshire\"\nprint(state[0:3])\nprint(state[3:len(state)])\nprint(state[0:3],state[3:len(state)])\n",
      "execution_count": 9,
      "outputs": [
        {
          "output_type": "stream",
          "text": "New\n Hampshire\nNew  Hampshire\n",
          "name": "stdout"
        }
      ]
    },
    {
      "metadata": {},
      "cell_type": "markdown",
      "source": "## Python's built in String Functions\n\nPython includes several handy built-in string functions (also known as *methods* in object-oriented parlance). To get a list of available functions, use the `dir()` function on any string variable, or on the type `str` itself.\n"
    },
    {
      "metadata": {
        "trusted": true
      },
      "cell_type": "code",
      "source": "print ( dir(str))",
      "execution_count": 10,
      "outputs": [
        {
          "output_type": "stream",
          "text": "['__add__', '__class__', '__contains__', '__delattr__', '__dir__', '__doc__', '__eq__', '__format__', '__ge__', '__getattribute__', '__getitem__', '__getnewargs__', '__gt__', '__hash__', '__init__', '__iter__', '__le__', '__len__', '__lt__', '__mod__', '__mul__', '__ne__', '__new__', '__reduce__', '__reduce_ex__', '__repr__', '__rmod__', '__rmul__', '__setattr__', '__sizeof__', '__str__', '__subclasshook__', 'capitalize', 'casefold', 'center', 'count', 'encode', 'endswith', 'expandtabs', 'find', 'format', 'format_map', 'index', 'isalnum', 'isalpha', 'isdecimal', 'isdigit', 'isidentifier', 'islower', 'isnumeric', 'isprintable', 'isspace', 'istitle', 'isupper', 'join', 'ljust', 'lower', 'lstrip', 'maketrans', 'partition', 'replace', 'rfind', 'rindex', 'rjust', 'rpartition', 'rsplit', 'rstrip', 'split', 'splitlines', 'startswith', 'strip', 'swapcase', 'title', 'translate', 'upper', 'zfill']\n",
          "name": "stdout"
        }
      ]
    },
    {
      "metadata": {},
      "cell_type": "markdown",
      "source": "Let's suppose you want to learn how to use the `count` function. There are 2 ways you can do this.\n\n1. search the web for `python 3 str count` or\n1. bring up internal help `help(str.count)` \n\nBoth have their advantages and disadvanges. I would start with the second one, and only fall back to a web search when you can't figure it out from the Python documenation. \n\nHere's the documentation for `count`"
    },
    {
      "metadata": {
        "trusted": true,
        "scrolled": true
      },
      "cell_type": "code",
      "source": "help(str.count)",
      "execution_count": 11,
      "outputs": [
        {
          "output_type": "stream",
          "text": "Help on method_descriptor:\n\ncount(...)\n    S.count(sub[, start[, end]]) -> int\n    \n    Return the number of non-overlapping occurrences of substring sub in\n    string S[start:end].  Optional arguments start and end are\n    interpreted as in slice notation.\n\n",
          "name": "stdout"
        }
      ]
    },
    {
      "metadata": {},
      "cell_type": "markdown",
      "source": "You'll notice in the help output it says S.count() this indicates this function is a method function. this means you invoke it like this `variable.count()`.\n\n### Now Try It\n\nTry to use the count() function method to count the number of `'i'`'s in the string `'Mississippi`:"
    },
    {
      "metadata": {
        "trusted": true
      },
      "cell_type": "code",
      "source": "state = 'Mississippi'\n#TODO: use state.count\nhelp(state.count)\nstate.count(\"i\")\n\n",
      "execution_count": 12,
      "outputs": [
        {
          "output_type": "stream",
          "text": "Help on built-in function count:\n\ncount(...) method of builtins.str instance\n    S.count(sub[, start[, end]]) -> int\n    \n    Return the number of non-overlapping occurrences of substring sub in\n    string S[start:end].  Optional arguments start and end are\n    interpreted as in slice notation.\n\n",
          "name": "stdout"
        },
        {
          "output_type": "execute_result",
          "execution_count": 12,
          "data": {
            "text/plain": "4"
          },
          "metadata": {}
        }
      ]
    },
    {
      "metadata": {},
      "cell_type": "markdown",
      "source": "### TANGENT: The Subtle difference between function and method.\n\nYou'll notice sometimes we call our function alone, other times it's attached to a variable, as was the case in previous example. When we say `state.count('i')` the period (`.`) between the variable and function indicates this function is a *method function*. The key difference between a the two is a method is attached to a variable. To call a method function you must say `variable.function()` whereas when you call a function its just `function()`. The variable associated with the method call is usually part of the function's context.\n\nHere's an example:"
    },
    {
      "metadata": {
        "trusted": true
      },
      "cell_type": "code",
      "source": "name = \"Larry\"\nprint( len(name) )      # a function call len(name) stands on its own. Gets length of 'Larry'\nprint( name.__len__() ) # a method call name.__len__()  does the name thing for its variable 'Larry'",
      "execution_count": 13,
      "outputs": [
        {
          "output_type": "stream",
          "text": "5\n5\n",
          "name": "stdout"
        }
      ]
    },
    {
      "metadata": {},
      "cell_type": "markdown",
      "source": "### Now Try It\n\nTry to figure out which built in string function to use to accomplish this task.\n\nWrite some code to find the text `'is'` in some text. The program shoud output the first position of `'is'` in the text. \n\nExamples:\n\n```\nWhen: text = 'Mississippi' then position = 1\nWhen: text = \"This is great\" then position = 2\nWhen: text = \"Burger\" then position = -1\n```"
    },
    {
      "metadata": {
        "trusted": true
      },
      "cell_type": "code",
      "source": "# TODO: Write your code here\ntext = input(\"Enter some text: \")\ntext.find(\"is\")\n\n",
      "execution_count": 14,
      "outputs": [
        {
          "output_type": "stream",
          "name": "stdout",
          "text": "Enter some text: mississippi\n"
        },
        {
          "output_type": "execute_result",
          "execution_count": 14,
          "data": {
            "text/plain": "1"
          },
          "metadata": {}
        }
      ]
    },
    {
      "metadata": {},
      "cell_type": "markdown",
      "source": "### Now Try It\n\n**Is that a URL?**\n\nTry to write a rudimentary URL checker. The program should input a text string and then use the `startswith` function to check if the string begins with `\"http://\"` or `\"https://\"` If it does we can assume it is a URL. Your program should output whether or not the input text string was a URL.\n\nExample:\n\n```\nEnter some text: http://www.google.com\nhttp://www.google.com is a URL.\n```"
    },
    {
      "metadata": {
        "trusted": true
      },
      "cell_type": "code",
      "source": "## TODO: write code here:\nURL=input(\"enter a URL:\")\nURL.startswith(\"http://\")\nif(URL.startswith(\"http://\")):\n    print(\"thats a URL!\")\nelse:\n    print(\"nope, thats not a URL!\")\n\n\n",
      "execution_count": 25,
      "outputs": [
        {
          "output_type": "stream",
          "name": "stdout",
          "text": "enter a URL:http://gmail.com\nthats a URL!\n"
        }
      ]
    },
    {
      "metadata": {},
      "cell_type": "markdown",
      "source": "## Metacognition\n\nPlease answer the following questions. This should be a personal narrative, in your own voice. Answer the questions by double clicking on the question and placing your answer next to the Answer: prompt.\n\n\n1. Record any questions you have about this lab that you would like to ask in recitation. It is expected you will have questions if you did not complete the code sections correctly.  Learning how to articulate what you do not understand is an important skill of critical thinking. \n\nAnswer: This lab was much easier than last weeks assignments. I did not really have any trouble with this one and don't have any questions about it. \n\n2. What was the most difficult aspect of completing this lab? Least difficult?  \n\nAnswer: The most difficult aspect of completing this lab was the final question. I couldn't figure out how to correctly return the right one but after patience and time I figured it out.\n\n3. What aspects of this lab do you find most valuable? Least valuable?\n\nAnswer: This lab is very valuable in all aspects. All of the skills we learned here are crucial in writing codes on python.\n\n4. Rate your comfort level with this week's material so far.   \n\n1 ==> I can do this on my own and explain how to do it.   \n2 ==> I can do this on my own without any help.   \n3 ==> I can do this with help or guidance from others. If you choose this level please list those who helped you.   \n4 ==> I don't understand this at all yet and need extra help. If you choose this please try to articulate that which you do not understand.   \n\nAnswer: \nIm at a 2 right now with this topic.\n"
    },
    {
      "metadata": {
        "trusted": true
      },
      "cell_type": "code",
      "source": "# to save and turn in your work, execute this cell. Your latest submission will be graded. \nok.submit()",
      "execution_count": null,
      "outputs": []
    }
  ],
  "metadata": {
    "anaconda-cloud": {},
    "kernelspec": {
      "name": "python3",
      "display_name": "Python 3",
      "language": "python"
    },
    "language_info": {
      "mimetype": "text/x-python",
      "nbconvert_exporter": "python",
      "name": "python",
      "file_extension": ".py",
      "version": "3.5.4",
      "pygments_lexer": "ipython3",
      "codemirror_mode": {
        "version": 3,
        "name": "ipython"
      }
    },
    "toc": {
      "base_numbering": 1,
      "nav_menu": {},
      "number_sections": false,
      "sideBar": false,
      "skip_h1_title": false,
      "title_cell": "Table of Contents",
      "title_sidebar": "Contents",
      "toc_cell": false,
      "toc_position": {},
      "toc_section_display": false,
      "toc_window_display": false
    }
  },
  "nbformat": 4,
  "nbformat_minor": 1
}